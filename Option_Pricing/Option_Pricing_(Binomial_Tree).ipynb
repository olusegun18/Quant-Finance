{
  "cells": [
    {
      "cell_type": "markdown",
      "metadata": {
        "id": "NIuhyoXnL73f"
      },
      "source": [
        "\n",
        "## OPTION PRICING\n",
        "\n",
        "\n"
      ]
    },
    {
      "cell_type": "code",
      "execution_count": 1,
      "metadata": {
        "id": "i_yJscRLLxs3"
      },
      "outputs": [],
      "source": [
        "import numpy as np"
      ]
    },
    {
      "cell_type": "markdown",
      "metadata": {
        "id": "5wWDABe1MioC"
      },
      "source": [
        "Below is the code for a general function to simulate the underlying stock price for some inputs: initial stock price (`S_ini`), time-horizon ($T$), upward ($u$) and downward ($d$) movements, and number of steps (N)."
      ]
    },
    {
      "cell_type": "code",
      "execution_count": 2,
      "metadata": {
        "id": "nR-e3ciPMjMz"
      },
      "outputs": [],
      "source": [
        "def binomial_tree(S_ini, T, u, d, N):\n",
        "    S = np.zeros([N + 1, N + 1])  # Underlying price\n",
        "    for i in range(0, N + 1):\n",
        "        S[N, i] = S_ini * (u ** (i)) * (d ** (N - i))\n",
        "    for j in range(N - 1, -1, -1):\n",
        "        for i in range(0, j + 1):\n",
        "            S[j, i] = S_ini * (u ** (i)) * (d ** (j - i))\n",
        "    return S"
      ]
    },
    {
      "cell_type": "markdown",
      "metadata": {
        "id": "PCkRGRGSM69w"
      },
      "source": [
        "Note that the final ouput is stored in a variable, $S$, the one returned by the function. This variable will contain an array with the values of the stock price at each point in time in a lower triangular matrix."
      ]
    },
    {
      "cell_type": "code",
      "execution_count": 3,
      "metadata": {
        "colab": {
          "base_uri": "https://localhost:8080/"
        },
        "id": "Lq5nOSMJM5vP",
        "outputId": "3e12fbf6-891a-45fd-f88e-92e2260fb924"
      },
      "outputs": [
        {
          "data": {
            "text/plain": [
              "array([[100.,   0.,   0.],\n",
              "       [ 80., 120.,   0.],\n",
              "       [ 64.,  96., 144.]])"
            ]
          },
          "execution_count": 3,
          "metadata": {},
          "output_type": "execute_result"
        }
      ],
      "source": [
        "Stock = binomial_tree(100, 1, 1.2, 0.8, 2)\n",
        "Stock"
      ]
    },
    {
      "cell_type": "markdown",
      "metadata": {
        "id": "qXzqpBlkNJvF"
      },
      "source": [
        "## 2. Extending the Tree with Call Option Payoffs\n",
        "\n",
        "The previous function can be extended by adding another variable that computes the payoffs associated with a Call Option of certain characteristics. For European calls, payoff is only computed at maturity:"
      ]
    },
    {
      "cell_type": "code",
      "execution_count": 4,
      "metadata": {
        "id": "0AYJHQhNNKTg"
      },
      "outputs": [],
      "source": [
        "def binomial_tree_call(S_ini, K, T, u, d, N):\n",
        "    C = np.zeros([N + 1, N + 1])  # Call prices\n",
        "    S = np.zeros([N + 1, N + 1])  # Underlying price\n",
        "    for i in range(0, N + 1):\n",
        "        C[N, i] = max(S_ini * (u ** (i)) * (d ** (N - i)) - K, 0)\n",
        "        S[N, i] = S_ini * (u ** (i)) * (d ** (N - i))\n",
        "    for j in range(N - 1, -1, -1):\n",
        "        for i in range(0, j + 1):\n",
        "            S[j, i] = S_ini * (u ** (i)) * (d ** (j - i))\n",
        "    return S, C"
      ]
    },
    {
      "cell_type": "code",
      "execution_count": 5,
      "metadata": {
        "colab": {
          "base_uri": "https://localhost:8080/"
        },
        "id": "dcw696TMNM0l",
        "outputId": "5e30d16b-3370-4264-e206-814b2aebf884"
      },
      "outputs": [
        {
          "name": "stdout",
          "output_type": "stream",
          "text": [
            "Underlying Price Evolution:\n",
            " [[100.           0.           0.           0.           0.\n",
            "    0.           0.           0.           0.           0.\n",
            "    0.        ]\n",
            " [ 80.         120.           0.           0.           0.\n",
            "    0.           0.           0.           0.           0.\n",
            "    0.        ]\n",
            " [ 64.          96.         144.           0.           0.\n",
            "    0.           0.           0.           0.           0.\n",
            "    0.        ]\n",
            " [ 51.2         76.8        115.2        172.8          0.\n",
            "    0.           0.           0.           0.           0.\n",
            "    0.        ]\n",
            " [ 40.96        61.44        92.16       138.24       207.36\n",
            "    0.           0.           0.           0.           0.\n",
            "    0.        ]\n",
            " [ 32.768       49.152       73.728      110.592      165.888\n",
            "  248.832        0.           0.           0.           0.\n",
            "    0.        ]\n",
            " [ 26.2144      39.3216      58.9824      88.4736     132.7104\n",
            "  199.0656     298.5984       0.           0.           0.\n",
            "    0.        ]\n",
            " [ 20.97152     31.45728     47.18592     70.77888    106.16832\n",
            "  159.25248    238.87872    358.31808      0.           0.\n",
            "    0.        ]\n",
            " [ 16.777216    25.165824    37.748736    56.623104    84.934656\n",
            "  127.401984   191.102976   286.654464   429.981696     0.\n",
            "    0.        ]\n",
            " [ 13.4217728   20.1326592   30.1989888   45.2984832   67.9477248\n",
            "  101.9215872  152.8823808  229.3235712  343.9853568  515.9780352\n",
            "    0.        ]\n",
            " [ 10.73741824  16.10612736  24.15919104  36.23878656  54.35817984\n",
            "   81.53726976 122.30590464 183.45885696 275.18828544 412.78242816\n",
            "  619.17364224]]\n",
            "Call Option Payoff:\n",
            " [[  0.           0.           0.           0.           0.\n",
            "    0.           0.           0.           0.           0.\n",
            "    0.        ]\n",
            " [  0.           0.           0.           0.           0.\n",
            "    0.           0.           0.           0.           0.\n",
            "    0.        ]\n",
            " [  0.           0.           0.           0.           0.\n",
            "    0.           0.           0.           0.           0.\n",
            "    0.        ]\n",
            " [  0.           0.           0.           0.           0.\n",
            "    0.           0.           0.           0.           0.\n",
            "    0.        ]\n",
            " [  0.           0.           0.           0.           0.\n",
            "    0.           0.           0.           0.           0.\n",
            "    0.        ]\n",
            " [  0.           0.           0.           0.           0.\n",
            "    0.           0.           0.           0.           0.\n",
            "    0.        ]\n",
            " [  0.           0.           0.           0.           0.\n",
            "    0.           0.           0.           0.           0.\n",
            "    0.        ]\n",
            " [  0.           0.           0.           0.           0.\n",
            "    0.           0.           0.           0.           0.\n",
            "    0.        ]\n",
            " [  0.           0.           0.           0.           0.\n",
            "    0.           0.           0.           0.           0.\n",
            "    0.        ]\n",
            " [  0.           0.           0.           0.           0.\n",
            "    0.           0.           0.           0.           0.\n",
            "    0.        ]\n",
            " [  0.           0.           0.           0.           0.\n",
            "    0.          32.30590464  93.45885696 185.18828544 322.78242816\n",
            "  529.17364224]]\n"
          ]
        }
      ],
      "source": [
        "Stock, Call = binomial_tree_call(100, 90, 10, 1.2, 0.8, 10)\n",
        "print(\"Underlying Price Evolution:\\n\", Stock)\n",
        "print(\"Call Option Payoff:\\n\", Call)"
      ]
    },
    {
      "cell_type": "markdown",
      "metadata": {
        "id": "A8CPi4GANaiz"
      },
      "source": [
        "It is easy to see that the variable $C$ output by the function will return Call Option payoff at maturity."
      ]
    },
    {
      "attachments": {},
      "cell_type": "markdown",
      "metadata": {
        "id": "3wi9E2-gOhxB"
      },
      "source": [
        "## 3. Introducing Risk-Neutral Probabilities and backward induction of Call Option Value\n",
        "\n",
        "Risk-neutral valuation calculates the value of an asset by discounting the expected value of its future pay-offs at the risk-free rate of return. The expected value is now obtained using the actual probabilities of each pay-off.\n",
        "\n",
        "Once the risk-neutral probabilities is known, the value of the call option at each node will depend on the expected payoff in the two potential future scenarios (up or down movements), discounted at risk-free. That is:\n",
        "\n",
        "$C_{t}= e^{-rdt}[p c_{t+1}^u + (1-p) c_{t+1}^d]$\n",
        "\n",
        "where $dt$ is the discounted period from one node to the next (**time-step**), and $c_{t+1}^u$ and $c_{t+1}^d$ are the **values of the Call option in the next period**. We will therefore have to start from the last period (maturity) and work backwards, hence the term backward induction.\n",
        "\n",
        "$dt$  is used here because we are assuming there are a **bunch of periods (steps) in the tree from the initial date until maturity of the option**. Under the 1-step case, we can calculate risk-neutral probabilities as we did in the videos, because $dt=T/N = 1/1 = 1 = T$:\n",
        "\n",
        "$p=\\frac{e^{rT}-d}{u-d}$\n",
        "\n",
        "Once we consider a different $dt$, we just need to modify $p$ accordingly:\n",
        "\n",
        "$p=\\frac{e^{rdt}-d}{u-d}$"
      ]
    },
    {
      "cell_type": "markdown",
      "metadata": {
        "id": "4f7layUtOomy"
      },
      "source": [
        "Now, we can write a final function that recognizes all these issues."
      ]
    },
    {
      "cell_type": "code",
      "execution_count": 6,
      "metadata": {
        "id": "CuWOiKsjOgOq"
      },
      "outputs": [],
      "source": [
        "def binomial_call_full(S_ini, K, T, r, u, d, N):\n",
        "    dt = T / N  # Define time step\n",
        "    p = (np.exp(r * dt) - d) / (u - d)  # Risk neutral probabilities (probs)\n",
        "    C = np.zeros([N + 1, N + 1])  # Call prices\n",
        "    S = np.zeros([N + 1, N + 1])  # Underlying price\n",
        "    for i in range(0, N + 1):\n",
        "        C[N, i] = max(S_ini * (u ** (i)) * (d ** (N - i)) - K, 0)\n",
        "        S[N, i] = S_ini * (u ** (i)) * (d ** (N - i))\n",
        "    for j in range(N - 1, -1, -1):\n",
        "        for i in range(0, j + 1):\n",
        "            C[j, i] = np.exp(-r * dt) * (p * C[j + 1, i + 1] + (1 - p) * C[j + 1, i])\n",
        "            S[j, i] = S_ini * (u ** (i)) * (d ** (j - i))\n",
        "    return C[0, 0], C, S"
      ]
    },
    {
      "cell_type": "markdown",
      "metadata": {
        "id": "TmwP1cKpOvPf"
      },
      "source": [
        "Based on backward induction, the first value of the Call Option Payoff matrix (the last we calculate) is the price of the Call Option today."
      ]
    },
    {
      "cell_type": "code",
      "execution_count": 7,
      "metadata": {
        "colab": {
          "base_uri": "https://localhost:8080/"
        },
        "id": "4HxU8uwcOt_M",
        "outputId": "7ec99a26-8904-49cc-f08a-fd677d8674b3"
      },
      "outputs": [
        {
          "name": "stdout",
          "output_type": "stream",
          "text": [
            "Underlying Price Evolution:\n",
            " [[100.           0.           0.           0.           0.\n",
            "    0.           0.           0.           0.           0.\n",
            "    0.        ]\n",
            " [ 80.         120.           0.           0.           0.\n",
            "    0.           0.           0.           0.           0.\n",
            "    0.        ]\n",
            " [ 64.          96.         144.           0.           0.\n",
            "    0.           0.           0.           0.           0.\n",
            "    0.        ]\n",
            " [ 51.2         76.8        115.2        172.8          0.\n",
            "    0.           0.           0.           0.           0.\n",
            "    0.        ]\n",
            " [ 40.96        61.44        92.16       138.24       207.36\n",
            "    0.           0.           0.           0.           0.\n",
            "    0.        ]\n",
            " [ 32.768       49.152       73.728      110.592      165.888\n",
            "  248.832        0.           0.           0.           0.\n",
            "    0.        ]\n",
            " [ 26.2144      39.3216      58.9824      88.4736     132.7104\n",
            "  199.0656     298.5984       0.           0.           0.\n",
            "    0.        ]\n",
            " [ 20.97152     31.45728     47.18592     70.77888    106.16832\n",
            "  159.25248    238.87872    358.31808      0.           0.\n",
            "    0.        ]\n",
            " [ 16.777216    25.165824    37.748736    56.623104    84.934656\n",
            "  127.401984   191.102976   286.654464   429.981696     0.\n",
            "    0.        ]\n",
            " [ 13.4217728   20.1326592   30.1989888   45.2984832   67.9477248\n",
            "  101.9215872  152.8823808  229.3235712  343.9853568  515.9780352\n",
            "    0.        ]\n",
            " [ 10.73741824  16.10612736  24.15919104  36.23878656  54.35817984\n",
            "   81.53726976 122.30590464 183.45885696 275.18828544 412.78242816\n",
            "  619.17364224]]\n",
            "Call Option Payoff:\n",
            " [[2.93845445e+01 0.00000000e+00 0.00000000e+00 0.00000000e+00\n",
            "  0.00000000e+00 0.00000000e+00 0.00000000e+00 0.00000000e+00\n",
            "  0.00000000e+00 0.00000000e+00 0.00000000e+00]\n",
            " [1.57572106e+01 4.30118784e+01 0.00000000e+00 0.00000000e+00\n",
            "  0.00000000e+00 0.00000000e+00 0.00000000e+00 0.00000000e+00\n",
            "  0.00000000e+00 0.00000000e+00 0.00000000e+00]\n",
            " [7.17743934e+00 2.43369819e+01 6.16867749e+01 0.00000000e+00\n",
            "  0.00000000e+00 0.00000000e+00 0.00000000e+00 0.00000000e+00\n",
            "  0.00000000e+00 0.00000000e+00 0.00000000e+00]\n",
            " [2.49687648e+00 1.18580022e+01 3.68159616e+01 8.65575882e+01\n",
            "  0.00000000e+00 0.00000000e+00 0.00000000e+00 0.00000000e+00\n",
            "  0.00000000e+00 0.00000000e+00 0.00000000e+00]\n",
            " [5.04779760e-01 4.48897320e+00 1.92270312e+01 5.44048920e+01\n",
            "  1.18710284e+02 0.00000000e+00 0.00000000e+00 0.00000000e+00\n",
            "  0.00000000e+00 0.00000000e+00 0.00000000e+00]\n",
            " [0.00000000e+00 1.00955952e+00 7.96838688e+00 3.04856755e+01\n",
            "  7.83241085e+01 1.59096460e+02 0.00000000e+00 0.00000000e+00\n",
            "  0.00000000e+00 0.00000000e+00 0.00000000e+00]\n",
            " [0.00000000e+00 0.00000000e+00 2.01911904e+00 1.39176547e+01\n",
            "  4.70536963e+01 1.09594521e+02 2.08598400e+02 0.00000000e+00\n",
            "  0.00000000e+00 0.00000000e+00 0.00000000e+00]\n",
            " [0.00000000e+00 0.00000000e+00 0.00000000e+00 4.03823808e+00\n",
            "  2.37970714e+01 7.03103213e+01 1.48878720e+02 2.68318080e+02\n",
            "  0.00000000e+00 0.00000000e+00 0.00000000e+00]\n",
            " [0.00000000e+00 0.00000000e+00 0.00000000e+00 0.00000000e+00\n",
            "  8.07647616e+00 3.95176666e+01 1.01102976e+02 1.96654464e+02\n",
            "  3.39981696e+02 0.00000000e+00 0.00000000e+00]\n",
            " [0.00000000e+00 0.00000000e+00 0.00000000e+00 0.00000000e+00\n",
            "  0.00000000e+00 1.61529523e+01 6.28823808e+01 1.39323571e+02\n",
            "  2.53985357e+02 4.25978035e+02 0.00000000e+00]\n",
            " [0.00000000e+00 0.00000000e+00 0.00000000e+00 0.00000000e+00\n",
            "  0.00000000e+00 0.00000000e+00 3.23059046e+01 9.34588570e+01\n",
            "  1.85188285e+02 3.22782428e+02 5.29173642e+02]]\n",
            "Call Option Price at t=0:  29.38\n"
          ]
        }
      ],
      "source": [
        "call_price, C, S = binomial_call_full(100, 90, 10, 0, 1.2, 0.8, 10)\n",
        "print(\"Underlying Price Evolution:\\n\", S)\n",
        "print(\"Call Option Payoff:\\n\", C)\n",
        "print(\"Call Option Price at t=0: \", \"{:.2f}\".format(call_price))"
      ]
    }
  ],
  "metadata": {
    "colab": {
      "provenance": []
    },
    "kernelspec": {
      "display_name": "Python 3",
      "language": "python",
      "name": "python3"
    },
    "language_info": {
      "codemirror_mode": {
        "name": "ipython",
        "version": 3
      },
      "file_extension": ".py",
      "mimetype": "text/x-python",
      "name": "python",
      "nbconvert_exporter": "python",
      "pygments_lexer": "ipython3",
      "version": "3.9.6"
    },
    "vscode": {
      "interpreter": {
        "hash": "31f2aee4e71d21fbe5cf8b01ff0e069b9275f58929596ceb00d14d90e3e16cd6"
      }
    }
  },
  "nbformat": 4,
  "nbformat_minor": 0
}
