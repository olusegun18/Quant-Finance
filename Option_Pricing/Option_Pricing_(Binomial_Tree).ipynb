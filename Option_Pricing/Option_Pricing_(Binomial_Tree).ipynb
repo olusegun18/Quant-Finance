{
  "nbformat": 4,
  "nbformat_minor": 0,
  "metadata": {
    "colab": {
      "provenance": []
    },
    "kernelspec": {
      "name": "python3",
      "display_name": "Python 3"
    },
    "language_info": {
      "name": "python"
    }
  },
  "cells": [
    {
      "cell_type": "markdown",
      "source": [
        "\n",
        "## OPTION PRICING\n",
        "\n",
        "\n"
      ],
      "metadata": {
        "id": "NIuhyoXnL73f"
      }
    },
    {
      "cell_type": "code",
      "execution_count": 1,
      "metadata": {
        "id": "i_yJscRLLxs3"
      },
      "outputs": [],
      "source": [
        "import numpy as np"
      ]
    },
    {
      "cell_type": "markdown",
      "source": [
        "Below is the code for a general function to simulate the underlying stock price for some inputs: initial stock price (`S_ini`), time-horizon ($T$), upward ($u$) and downward ($d$) movements, and number of steps (N)."
      ],
      "metadata": {
        "id": "5wWDABe1MioC"
      }
    },
    {
      "cell_type": "code",
      "source": [
        "def binomial_tree(S_ini, T, u, d, N):\n",
        "    S = np.zeros([N + 1, N + 1])  # Underlying price\n",
        "    for i in range(0, N + 1):\n",
        "        S[N, i] = S_ini * (u ** (i)) * (d ** (N - i))\n",
        "    for j in range(N - 1, -1, -1):\n",
        "        for i in range(0, j + 1):\n",
        "            S[j, i] = S_ini * (u ** (i)) * (d ** (j - i))\n",
        "    return S"
      ],
      "metadata": {
        "id": "nR-e3ciPMjMz"
      },
      "execution_count": 2,
      "outputs": []
    },
    {
      "cell_type": "markdown",
      "source": [
        "Note that we store everything in a variable, $S$, the one returned by the function. This variable will contain an array with the values of the stock price at each point in time in a lower triangular matrix.\n",
        "\n",
        "Let's check it by replicating the same tree for $N=2$ that you have in the Lesson 1 slides:"
      ],
      "metadata": {
        "id": "PCkRGRGSM69w"
      }
    },
    {
      "cell_type": "code",
      "source": [
        "Stock = binomial_tree(100, 1, 1.2, 0.8, 2)\n",
        "Stock"
      ],
      "metadata": {
        "colab": {
          "base_uri": "https://localhost:8080/"
        },
        "id": "Lq5nOSMJM5vP",
        "outputId": "90c03445-d951-4e11-9159-b2a0a819cd33"
      },
      "execution_count": 3,
      "outputs": [
        {
          "output_type": "execute_result",
          "data": {
            "text/plain": [
              "array([[100.,   0.,   0.],\n",
              "       [ 80., 120.,   0.],\n",
              "       [ 64.,  96., 144.]])"
            ]
          },
          "metadata": {},
          "execution_count": 3
        }
      ]
    },
    {
      "cell_type": "markdown",
      "source": [
        "## 2. Extending the Tree with Call Option Payoffs\n",
        "\n",
        "Next, let's extend the previous function by adding another variable that computes the payoffs associated with a Call Option of certain characteristics. Note that we are focusing on a European Call Option with strike price $K=90$, and therefore the payoff is only computed at maturity:"
      ],
      "metadata": {
        "id": "qXzqpBlkNJvF"
      }
    },
    {
      "cell_type": "code",
      "source": [
        "def binomial_tree_call(S_ini, K, T, u, d, N):\n",
        "    C = np.zeros([N + 1, N + 1])  # Call prices\n",
        "    S = np.zeros([N + 1, N + 1])  # Underlying price\n",
        "    for i in range(0, N + 1):\n",
        "        C[N, i] = max(S_ini * (u ** (i)) * (d ** (N - i)) - K, 0)\n",
        "        S[N, i] = S_ini * (u ** (i)) * (d ** (N - i))\n",
        "    for j in range(N - 1, -1, -1):\n",
        "        for i in range(0, j + 1):\n",
        "            S[j, i] = S_ini * (u ** (i)) * (d ** (j - i))\n",
        "    return S, C"
      ],
      "metadata": {
        "id": "0AYJHQhNNKTg"
      },
      "execution_count": 4,
      "outputs": []
    },
    {
      "cell_type": "code",
      "source": [
        "Stock, Call = binomial_tree_call(100, 90, 10, 1.2, 0.8, 10)\n",
        "print(\"Underlying Price Evolution:\\n\", Stock)\n",
        "print(\"Call Option Payoff:\\n\", Call)"
      ],
      "metadata": {
        "colab": {
          "base_uri": "https://localhost:8080/"
        },
        "id": "dcw696TMNM0l",
        "outputId": "af8da56d-b376-4f74-d932-35a7abf72846"
      },
      "execution_count": 5,
      "outputs": [
        {
          "output_type": "stream",
          "name": "stdout",
          "text": [
            "Underlying Price Evolution:\n",
            " [[100.           0.           0.           0.           0.\n",
            "    0.           0.           0.           0.           0.\n",
            "    0.        ]\n",
            " [ 80.         120.           0.           0.           0.\n",
            "    0.           0.           0.           0.           0.\n",
            "    0.        ]\n",
            " [ 64.          96.         144.           0.           0.\n",
            "    0.           0.           0.           0.           0.\n",
            "    0.        ]\n",
            " [ 51.2         76.8        115.2        172.8          0.\n",
            "    0.           0.           0.           0.           0.\n",
            "    0.        ]\n",
            " [ 40.96        61.44        92.16       138.24       207.36\n",
            "    0.           0.           0.           0.           0.\n",
            "    0.        ]\n",
            " [ 32.768       49.152       73.728      110.592      165.888\n",
            "  248.832        0.           0.           0.           0.\n",
            "    0.        ]\n",
            " [ 26.2144      39.3216      58.9824      88.4736     132.7104\n",
            "  199.0656     298.5984       0.           0.           0.\n",
            "    0.        ]\n",
            " [ 20.97152     31.45728     47.18592     70.77888    106.16832\n",
            "  159.25248    238.87872    358.31808      0.           0.\n",
            "    0.        ]\n",
            " [ 16.777216    25.165824    37.748736    56.623104    84.934656\n",
            "  127.401984   191.102976   286.654464   429.981696     0.\n",
            "    0.        ]\n",
            " [ 13.4217728   20.1326592   30.1989888   45.2984832   67.9477248\n",
            "  101.9215872  152.8823808  229.3235712  343.9853568  515.9780352\n",
            "    0.        ]\n",
            " [ 10.73741824  16.10612736  24.15919104  36.23878656  54.35817984\n",
            "   81.53726976 122.30590464 183.45885696 275.18828544 412.78242816\n",
            "  619.17364224]]\n",
            "Call Option Payoff:\n",
            " [[  0.           0.           0.           0.           0.\n",
            "    0.           0.           0.           0.           0.\n",
            "    0.        ]\n",
            " [  0.           0.           0.           0.           0.\n",
            "    0.           0.           0.           0.           0.\n",
            "    0.        ]\n",
            " [  0.           0.           0.           0.           0.\n",
            "    0.           0.           0.           0.           0.\n",
            "    0.        ]\n",
            " [  0.           0.           0.           0.           0.\n",
            "    0.           0.           0.           0.           0.\n",
            "    0.        ]\n",
            " [  0.           0.           0.           0.           0.\n",
            "    0.           0.           0.           0.           0.\n",
            "    0.        ]\n",
            " [  0.           0.           0.           0.           0.\n",
            "    0.           0.           0.           0.           0.\n",
            "    0.        ]\n",
            " [  0.           0.           0.           0.           0.\n",
            "    0.           0.           0.           0.           0.\n",
            "    0.        ]\n",
            " [  0.           0.           0.           0.           0.\n",
            "    0.           0.           0.           0.           0.\n",
            "    0.        ]\n",
            " [  0.           0.           0.           0.           0.\n",
            "    0.           0.           0.           0.           0.\n",
            "    0.        ]\n",
            " [  0.           0.           0.           0.           0.\n",
            "    0.           0.           0.           0.           0.\n",
            "    0.        ]\n",
            " [  0.           0.           0.           0.           0.\n",
            "    0.          32.30590464  93.45885696 185.18828544 322.78242816\n",
            "  529.17364224]]\n"
          ]
        }
      ]
    },
    {
      "cell_type": "markdown",
      "source": [
        "It is easy to see that the variable $C$ output by the function will return Call Option payoff at maturity. We can verify this by replicating the simple N=1 tree with Call option payoff from the Lesson 1 slides:"
      ],
      "metadata": {
        "id": "A8CPi4GANaiz"
      }
    },
    {
      "cell_type": "markdown",
      "source": [
        "## 3. Introducing Risk-Neutral Probabilities and backward induction of Call Option Value\n",
        "\n",
        "For the final part of this notebook, let's work with the risk-neutral probabilities. Once we have the probabilities, we can, by backward induction, calculate the value of the Call Option (given its future payoffs and the associated probabilities) at each node.\n",
        "\n",
        "Importantly, once we know the risk-neutral probabilities, the value of the Call Option at each node will depend on the expected payoff in the two potential future scenarios (up or down movements), discounted at risk-free. That is:\n",
        "\n",
        "$C_{t}= e^{-rdt}[p c_{t+1}^u + (1-p) c_{t+1}^d]$\n",
        "\n",
        "where $dt$ is the discounted period from one node to the next (**time-step**), and $c_{t+1}^u$ and $c_{t+1}^d$ are the **values of the Call option in the next period**. We will therefore have to start from the last period (maturity) and work backwards, hence the term backward induction.\n",
        "\n",
        "Note that we use $dt$ here because we are assuming there are a **bunch of periods (steps) in the tree from the initial date until maturity of the option**. Under the 1-step case, we can calculate risk-neutral probabilities as we did in the videos, because $dt=T/N = 1/1 = 1 = T$:\n",
        "\n",
        "$p=\\frac{e^{rT}-d}{u-d}$\n",
        "\n",
        "Once we consider a different $dt$, we just need to modify $p$ accordingly:\n",
        "\n",
        "$p=\\frac{e^{rdt}-d}{u-d}$"
      ],
      "metadata": {
        "id": "3wi9E2-gOhxB"
      }
    },
    {
      "cell_type": "markdown",
      "source": [
        "Now, let's write a final function that recognizes all these issues."
      ],
      "metadata": {
        "id": "4f7layUtOomy"
      }
    },
    {
      "cell_type": "code",
      "source": [
        "def binomial_call_full(S_ini, K, T, r, u, d, N):\n",
        "    dt = T / N  # Define time step\n",
        "    p = (np.exp(r * dt) - d) / (u - d)  # Risk neutral probabilities (probs)\n",
        "    C = np.zeros([N + 1, N + 1])  # Call prices\n",
        "    S = np.zeros([N + 1, N + 1])  # Underlying price\n",
        "    for i in range(0, N + 1):\n",
        "        C[N, i] = max(S_ini * (u ** (i)) * (d ** (N - i)) - K, 0)\n",
        "        S[N, i] = S_ini * (u ** (i)) * (d ** (N - i))\n",
        "    for j in range(N - 1, -1, -1):\n",
        "        for i in range(0, j + 1):\n",
        "            C[j, i] = np.exp(-r * dt) * (p * C[j + 1, i + 1] + (1 - p) * C[j + 1, i])\n",
        "            S[j, i] = S_ini * (u ** (i)) * (d ** (j - i))\n",
        "    return C[0, 0], C, S"
      ],
      "metadata": {
        "id": "CuWOiKsjOgOq"
      },
      "execution_count": 6,
      "outputs": []
    },
    {
      "cell_type": "markdown",
      "source": [
        "Notice that since we are doing backward induction, the first value of the Call Option Payoff matrix (the last we calculate) is the price of the Call Option today.\n",
        "\n",
        "Let's replicate with the values from the example in the slides to check it:"
      ],
      "metadata": {
        "id": "TmwP1cKpOvPf"
      }
    },
    {
      "cell_type": "code",
      "source": [
        "call_price, C, S = binomial_call_full(100, 90, 10, 0, 1.2, 0.8, 10)\n",
        "print(\"Underlying Price Evolution:\\n\", S)\n",
        "print(\"Call Option Payoff:\\n\", C)\n",
        "print(\"Call Option Price at t=0: \", \"{:.2f}\".format(call_price))"
      ],
      "metadata": {
        "colab": {
          "base_uri": "https://localhost:8080/"
        },
        "id": "4HxU8uwcOt_M",
        "outputId": "6f38b1a0-f73f-4be8-830b-9ebac4c49ebc"
      },
      "execution_count": 7,
      "outputs": [
        {
          "output_type": "stream",
          "name": "stdout",
          "text": [
            "Underlying Price Evolution:\n",
            " [[100.           0.           0.           0.           0.\n",
            "    0.           0.           0.           0.           0.\n",
            "    0.        ]\n",
            " [ 80.         120.           0.           0.           0.\n",
            "    0.           0.           0.           0.           0.\n",
            "    0.        ]\n",
            " [ 64.          96.         144.           0.           0.\n",
            "    0.           0.           0.           0.           0.\n",
            "    0.        ]\n",
            " [ 51.2         76.8        115.2        172.8          0.\n",
            "    0.           0.           0.           0.           0.\n",
            "    0.        ]\n",
            " [ 40.96        61.44        92.16       138.24       207.36\n",
            "    0.           0.           0.           0.           0.\n",
            "    0.        ]\n",
            " [ 32.768       49.152       73.728      110.592      165.888\n",
            "  248.832        0.           0.           0.           0.\n",
            "    0.        ]\n",
            " [ 26.2144      39.3216      58.9824      88.4736     132.7104\n",
            "  199.0656     298.5984       0.           0.           0.\n",
            "    0.        ]\n",
            " [ 20.97152     31.45728     47.18592     70.77888    106.16832\n",
            "  159.25248    238.87872    358.31808      0.           0.\n",
            "    0.        ]\n",
            " [ 16.777216    25.165824    37.748736    56.623104    84.934656\n",
            "  127.401984   191.102976   286.654464   429.981696     0.\n",
            "    0.        ]\n",
            " [ 13.4217728   20.1326592   30.1989888   45.2984832   67.9477248\n",
            "  101.9215872  152.8823808  229.3235712  343.9853568  515.9780352\n",
            "    0.        ]\n",
            " [ 10.73741824  16.10612736  24.15919104  36.23878656  54.35817984\n",
            "   81.53726976 122.30590464 183.45885696 275.18828544 412.78242816\n",
            "  619.17364224]]\n",
            "Call Option Payoff:\n",
            " [[2.93845445e+01 0.00000000e+00 0.00000000e+00 0.00000000e+00\n",
            "  0.00000000e+00 0.00000000e+00 0.00000000e+00 0.00000000e+00\n",
            "  0.00000000e+00 0.00000000e+00 0.00000000e+00]\n",
            " [1.57572106e+01 4.30118784e+01 0.00000000e+00 0.00000000e+00\n",
            "  0.00000000e+00 0.00000000e+00 0.00000000e+00 0.00000000e+00\n",
            "  0.00000000e+00 0.00000000e+00 0.00000000e+00]\n",
            " [7.17743934e+00 2.43369819e+01 6.16867749e+01 0.00000000e+00\n",
            "  0.00000000e+00 0.00000000e+00 0.00000000e+00 0.00000000e+00\n",
            "  0.00000000e+00 0.00000000e+00 0.00000000e+00]\n",
            " [2.49687648e+00 1.18580022e+01 3.68159616e+01 8.65575882e+01\n",
            "  0.00000000e+00 0.00000000e+00 0.00000000e+00 0.00000000e+00\n",
            "  0.00000000e+00 0.00000000e+00 0.00000000e+00]\n",
            " [5.04779760e-01 4.48897320e+00 1.92270312e+01 5.44048920e+01\n",
            "  1.18710284e+02 0.00000000e+00 0.00000000e+00 0.00000000e+00\n",
            "  0.00000000e+00 0.00000000e+00 0.00000000e+00]\n",
            " [0.00000000e+00 1.00955952e+00 7.96838688e+00 3.04856755e+01\n",
            "  7.83241085e+01 1.59096460e+02 0.00000000e+00 0.00000000e+00\n",
            "  0.00000000e+00 0.00000000e+00 0.00000000e+00]\n",
            " [0.00000000e+00 0.00000000e+00 2.01911904e+00 1.39176547e+01\n",
            "  4.70536963e+01 1.09594521e+02 2.08598400e+02 0.00000000e+00\n",
            "  0.00000000e+00 0.00000000e+00 0.00000000e+00]\n",
            " [0.00000000e+00 0.00000000e+00 0.00000000e+00 4.03823808e+00\n",
            "  2.37970714e+01 7.03103213e+01 1.48878720e+02 2.68318080e+02\n",
            "  0.00000000e+00 0.00000000e+00 0.00000000e+00]\n",
            " [0.00000000e+00 0.00000000e+00 0.00000000e+00 0.00000000e+00\n",
            "  8.07647616e+00 3.95176666e+01 1.01102976e+02 1.96654464e+02\n",
            "  3.39981696e+02 0.00000000e+00 0.00000000e+00]\n",
            " [0.00000000e+00 0.00000000e+00 0.00000000e+00 0.00000000e+00\n",
            "  0.00000000e+00 1.61529523e+01 6.28823808e+01 1.39323571e+02\n",
            "  2.53985357e+02 4.25978035e+02 0.00000000e+00]\n",
            " [0.00000000e+00 0.00000000e+00 0.00000000e+00 0.00000000e+00\n",
            "  0.00000000e+00 0.00000000e+00 3.23059046e+01 9.34588570e+01\n",
            "  1.85188285e+02 3.22782428e+02 5.29173642e+02]]\n",
            "Call Option Price at t=0:  29.38\n"
          ]
        }
      ]
    }
  ]
}